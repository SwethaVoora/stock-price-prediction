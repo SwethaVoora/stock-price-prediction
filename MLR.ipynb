{
 "cells": [
  {
   "cell_type": "markdown",
   "metadata": {},
   "source": [
    "# MULTIPLE LINEAR REGRESSION FOR STOCK PRICE PREDICTION"
   ]
  },
  {
   "cell_type": "markdown",
   "metadata": {},
   "source": [
    "Stock price prediction is an essential task for investors and traders, as it can provide useful insights for making profitable trading decisions. One of the methods used for stock price prediction is multiple linear regression. Multiple linear regression is a statistical technique that analyzes the relationship between a dependent variable, which is the variable to be predicted (in this case, the close price of the stock), and multiple independent variables (such as trading volume, open price, low price and high price, etc.). The method finds the best-fit linear equation that describes the relationship between the variables, which can then be used to predict the stock price for future periods. In this way, multiple linear regression can provide a useful tool for investors and traders looking to make informed decisions about when to buy or sell stocks. However, it's important to note that stock prices are subject to various external factors, and no method can provide perfectly accurate predictions."
   ]
  },
  {
   "cell_type": "code",
   "execution_count": 1,
   "metadata": {},
   "outputs": [
    {
     "name": "stderr",
     "output_type": "stream",
     "text": [
      "/Users/teja/anaconda3/lib/python3.8/site-packages/pandas/core/computation/expressions.py:20: UserWarning: Pandas requires version '2.7.3' or newer of 'numexpr' (version '2.7.1' currently installed).\n",
      "  from pandas.core.computation.check import NUMEXPR_INSTALLED\n"
     ]
    }
   ],
   "source": [
    "# Import the required packages\n",
    "import numpy as np\n",
    "import pandas as pd\n",
    "import matplotlib.pyplot as plt\n",
    "import yfinance as yf\n",
    "import seaborn as sns\n",
    "from sklearn import metrics"
   ]
  },
  {
   "cell_type": "code",
   "execution_count": 2,
   "metadata": {},
   "outputs": [
    {
     "data": {
      "text/html": [
       "<div>\n",
       "<style scoped>\n",
       "    .dataframe tbody tr th:only-of-type {\n",
       "        vertical-align: middle;\n",
       "    }\n",
       "\n",
       "    .dataframe tbody tr th {\n",
       "        vertical-align: top;\n",
       "    }\n",
       "\n",
       "    .dataframe thead th {\n",
       "        text-align: right;\n",
       "    }\n",
       "</style>\n",
       "<table border=\"1\" class=\"dataframe\">\n",
       "  <thead>\n",
       "    <tr style=\"text-align: right;\">\n",
       "      <th></th>\n",
       "      <th>Open</th>\n",
       "      <th>High</th>\n",
       "      <th>Low</th>\n",
       "      <th>Close</th>\n",
       "      <th>Volume</th>\n",
       "      <th>Dividends</th>\n",
       "      <th>Stock Splits</th>\n",
       "    </tr>\n",
       "    <tr>\n",
       "      <th>Date</th>\n",
       "      <th></th>\n",
       "      <th></th>\n",
       "      <th></th>\n",
       "      <th></th>\n",
       "      <th></th>\n",
       "      <th></th>\n",
       "      <th></th>\n",
       "    </tr>\n",
       "  </thead>\n",
       "  <tbody>\n",
       "    <tr>\n",
       "      <th>1980-12-12 00:00:00-05:00</th>\n",
       "      <td>0.099722</td>\n",
       "      <td>0.100155</td>\n",
       "      <td>0.099722</td>\n",
       "      <td>0.099722</td>\n",
       "      <td>469033600</td>\n",
       "      <td>0.0</td>\n",
       "      <td>0.0</td>\n",
       "    </tr>\n",
       "    <tr>\n",
       "      <th>1980-12-15 00:00:00-05:00</th>\n",
       "      <td>0.094953</td>\n",
       "      <td>0.094953</td>\n",
       "      <td>0.094519</td>\n",
       "      <td>0.094519</td>\n",
       "      <td>175884800</td>\n",
       "      <td>0.0</td>\n",
       "      <td>0.0</td>\n",
       "    </tr>\n",
       "    <tr>\n",
       "      <th>1980-12-16 00:00:00-05:00</th>\n",
       "      <td>0.088015</td>\n",
       "      <td>0.088015</td>\n",
       "      <td>0.087582</td>\n",
       "      <td>0.087582</td>\n",
       "      <td>105728000</td>\n",
       "      <td>0.0</td>\n",
       "      <td>0.0</td>\n",
       "    </tr>\n",
       "    <tr>\n",
       "      <th>1980-12-17 00:00:00-05:00</th>\n",
       "      <td>0.089749</td>\n",
       "      <td>0.090183</td>\n",
       "      <td>0.089749</td>\n",
       "      <td>0.089749</td>\n",
       "      <td>86441600</td>\n",
       "      <td>0.0</td>\n",
       "      <td>0.0</td>\n",
       "    </tr>\n",
       "    <tr>\n",
       "      <th>1980-12-18 00:00:00-05:00</th>\n",
       "      <td>0.092351</td>\n",
       "      <td>0.092785</td>\n",
       "      <td>0.092351</td>\n",
       "      <td>0.092351</td>\n",
       "      <td>73449600</td>\n",
       "      <td>0.0</td>\n",
       "      <td>0.0</td>\n",
       "    </tr>\n",
       "  </tbody>\n",
       "</table>\n",
       "</div>"
      ],
      "text/plain": [
       "                               Open      High       Low     Close     Volume   \n",
       "Date                                                                           \n",
       "1980-12-12 00:00:00-05:00  0.099722  0.100155  0.099722  0.099722  469033600  \\\n",
       "1980-12-15 00:00:00-05:00  0.094953  0.094953  0.094519  0.094519  175884800   \n",
       "1980-12-16 00:00:00-05:00  0.088015  0.088015  0.087582  0.087582  105728000   \n",
       "1980-12-17 00:00:00-05:00  0.089749  0.090183  0.089749  0.089749   86441600   \n",
       "1980-12-18 00:00:00-05:00  0.092351  0.092785  0.092351  0.092351   73449600   \n",
       "\n",
       "                           Dividends  Stock Splits  \n",
       "Date                                                \n",
       "1980-12-12 00:00:00-05:00        0.0           0.0  \n",
       "1980-12-15 00:00:00-05:00        0.0           0.0  \n",
       "1980-12-16 00:00:00-05:00        0.0           0.0  \n",
       "1980-12-17 00:00:00-05:00        0.0           0.0  \n",
       "1980-12-18 00:00:00-05:00        0.0           0.0  "
      ]
     },
     "execution_count": 2,
     "metadata": {},
     "output_type": "execute_result"
    }
   ],
   "source": [
    "# Importing the dataset from yfinance\n",
    "AAPL = yf.Ticker(\"AAPL\")\n",
    "# Getting all time stock data \n",
    "AAPL = AAPL.history(period = \"max\")\n",
    "# Getting the first 5 data\n",
    "AAPL.head()"
   ]
  },
  {
   "cell_type": "code",
   "execution_count": 3,
   "metadata": {},
   "outputs": [
    {
     "data": {
      "text/html": [
       "<div>\n",
       "<style scoped>\n",
       "    .dataframe tbody tr th:only-of-type {\n",
       "        vertical-align: middle;\n",
       "    }\n",
       "\n",
       "    .dataframe tbody tr th {\n",
       "        vertical-align: top;\n",
       "    }\n",
       "\n",
       "    .dataframe thead th {\n",
       "        text-align: right;\n",
       "    }\n",
       "</style>\n",
       "<table border=\"1\" class=\"dataframe\">\n",
       "  <thead>\n",
       "    <tr style=\"text-align: right;\">\n",
       "      <th></th>\n",
       "      <th>Open</th>\n",
       "      <th>High</th>\n",
       "      <th>Low</th>\n",
       "      <th>Close</th>\n",
       "      <th>Volume</th>\n",
       "      <th>Dividends</th>\n",
       "      <th>Stock Splits</th>\n",
       "    </tr>\n",
       "    <tr>\n",
       "      <th>Date</th>\n",
       "      <th></th>\n",
       "      <th></th>\n",
       "      <th></th>\n",
       "      <th></th>\n",
       "      <th></th>\n",
       "      <th></th>\n",
       "      <th></th>\n",
       "    </tr>\n",
       "  </thead>\n",
       "  <tbody>\n",
       "    <tr>\n",
       "      <th>2023-05-01 00:00:00-04:00</th>\n",
       "      <td>169.279999</td>\n",
       "      <td>170.449997</td>\n",
       "      <td>168.639999</td>\n",
       "      <td>169.589996</td>\n",
       "      <td>52472900</td>\n",
       "      <td>0.0</td>\n",
       "      <td>0.0</td>\n",
       "    </tr>\n",
       "    <tr>\n",
       "      <th>2023-05-02 00:00:00-04:00</th>\n",
       "      <td>170.089996</td>\n",
       "      <td>170.350006</td>\n",
       "      <td>167.539993</td>\n",
       "      <td>168.539993</td>\n",
       "      <td>48425700</td>\n",
       "      <td>0.0</td>\n",
       "      <td>0.0</td>\n",
       "    </tr>\n",
       "    <tr>\n",
       "      <th>2023-05-03 00:00:00-04:00</th>\n",
       "      <td>169.500000</td>\n",
       "      <td>170.919998</td>\n",
       "      <td>167.160004</td>\n",
       "      <td>167.449997</td>\n",
       "      <td>65136000</td>\n",
       "      <td>0.0</td>\n",
       "      <td>0.0</td>\n",
       "    </tr>\n",
       "    <tr>\n",
       "      <th>2023-05-04 00:00:00-04:00</th>\n",
       "      <td>164.889999</td>\n",
       "      <td>167.039993</td>\n",
       "      <td>164.309998</td>\n",
       "      <td>165.789993</td>\n",
       "      <td>81235400</td>\n",
       "      <td>0.0</td>\n",
       "      <td>0.0</td>\n",
       "    </tr>\n",
       "    <tr>\n",
       "      <th>2023-05-05 00:00:00-04:00</th>\n",
       "      <td>170.979996</td>\n",
       "      <td>174.300003</td>\n",
       "      <td>170.759995</td>\n",
       "      <td>173.570007</td>\n",
       "      <td>113316400</td>\n",
       "      <td>0.0</td>\n",
       "      <td>0.0</td>\n",
       "    </tr>\n",
       "  </tbody>\n",
       "</table>\n",
       "</div>"
      ],
      "text/plain": [
       "                                 Open        High         Low       Close   \n",
       "Date                                                                        \n",
       "2023-05-01 00:00:00-04:00  169.279999  170.449997  168.639999  169.589996  \\\n",
       "2023-05-02 00:00:00-04:00  170.089996  170.350006  167.539993  168.539993   \n",
       "2023-05-03 00:00:00-04:00  169.500000  170.919998  167.160004  167.449997   \n",
       "2023-05-04 00:00:00-04:00  164.889999  167.039993  164.309998  165.789993   \n",
       "2023-05-05 00:00:00-04:00  170.979996  174.300003  170.759995  173.570007   \n",
       "\n",
       "                              Volume  Dividends  Stock Splits  \n",
       "Date                                                           \n",
       "2023-05-01 00:00:00-04:00   52472900        0.0           0.0  \n",
       "2023-05-02 00:00:00-04:00   48425700        0.0           0.0  \n",
       "2023-05-03 00:00:00-04:00   65136000        0.0           0.0  \n",
       "2023-05-04 00:00:00-04:00   81235400        0.0           0.0  \n",
       "2023-05-05 00:00:00-04:00  113316400        0.0           0.0  "
      ]
     },
     "execution_count": 3,
     "metadata": {},
     "output_type": "execute_result"
    }
   ],
   "source": [
    "# Getting the last 5 data\n",
    "AAPL.tail(5)"
   ]
  },
  {
   "cell_type": "code",
   "execution_count": 4,
   "metadata": {},
   "outputs": [],
   "source": [
    "# Creating a copy of the Apple dataframe from a specific date\n",
    "AAPL = AAPL.loc[\"2000-01-01\":].copy()"
   ]
  },
  {
   "cell_type": "code",
   "execution_count": 5,
   "metadata": {},
   "outputs": [
    {
     "data": {
      "text/plain": [
       "(5873, 7)"
      ]
     },
     "execution_count": 5,
     "metadata": {},
     "output_type": "execute_result"
    }
   ],
   "source": [
    "# Shape of the dataframe\n",
    "AAPL.shape"
   ]
  },
  {
   "cell_type": "code",
   "execution_count": 6,
   "metadata": {},
   "outputs": [
    {
     "name": "stdout",
     "output_type": "stream",
     "text": [
      "<class 'pandas.core.frame.DataFrame'>\n",
      "DatetimeIndex: 5873 entries, 2000-01-03 00:00:00-05:00 to 2023-05-05 00:00:00-04:00\n",
      "Data columns (total 7 columns):\n",
      " #   Column        Non-Null Count  Dtype  \n",
      "---  ------        --------------  -----  \n",
      " 0   Open          5873 non-null   float64\n",
      " 1   High          5873 non-null   float64\n",
      " 2   Low           5873 non-null   float64\n",
      " 3   Close         5873 non-null   float64\n",
      " 4   Volume        5873 non-null   int64  \n",
      " 5   Dividends     5873 non-null   float64\n",
      " 6   Stock Splits  5873 non-null   float64\n",
      "dtypes: float64(6), int64(1)\n",
      "memory usage: 367.1 KB\n"
     ]
    }
   ],
   "source": [
    "# Information of the Apple Dataframe\n",
    "AAPL.info()"
   ]
  },
  {
   "cell_type": "code",
   "execution_count": 7,
   "metadata": {},
   "outputs": [
    {
     "data": {
      "text/html": [
       "<div>\n",
       "<style scoped>\n",
       "    .dataframe tbody tr th:only-of-type {\n",
       "        vertical-align: middle;\n",
       "    }\n",
       "\n",
       "    .dataframe tbody tr th {\n",
       "        vertical-align: top;\n",
       "    }\n",
       "\n",
       "    .dataframe thead th {\n",
       "        text-align: right;\n",
       "    }\n",
       "</style>\n",
       "<table border=\"1\" class=\"dataframe\">\n",
       "  <thead>\n",
       "    <tr style=\"text-align: right;\">\n",
       "      <th></th>\n",
       "      <th>Open</th>\n",
       "      <th>High</th>\n",
       "      <th>Low</th>\n",
       "      <th>Close</th>\n",
       "      <th>Volume</th>\n",
       "      <th>Dividends</th>\n",
       "      <th>Stock Splits</th>\n",
       "    </tr>\n",
       "  </thead>\n",
       "  <tbody>\n",
       "    <tr>\n",
       "      <th>count</th>\n",
       "      <td>5873.000000</td>\n",
       "      <td>5873.000000</td>\n",
       "      <td>5873.000000</td>\n",
       "      <td>5873.000000</td>\n",
       "      <td>5.873000e+03</td>\n",
       "      <td>5873.000000</td>\n",
       "      <td>5873.000000</td>\n",
       "    </tr>\n",
       "    <tr>\n",
       "      <th>mean</th>\n",
       "      <td>30.519552</td>\n",
       "      <td>30.868356</td>\n",
       "      <td>30.183767</td>\n",
       "      <td>30.540789</td>\n",
       "      <td>4.092381e+08</td>\n",
       "      <td>0.001197</td>\n",
       "      <td>0.002554</td>\n",
       "    </tr>\n",
       "    <tr>\n",
       "      <th>std</th>\n",
       "      <td>45.149917</td>\n",
       "      <td>45.705982</td>\n",
       "      <td>44.632430</td>\n",
       "      <td>45.195706</td>\n",
       "      <td>3.865421e+08</td>\n",
       "      <td>0.014437</td>\n",
       "      <td>0.111469</td>\n",
       "    </tr>\n",
       "    <tr>\n",
       "      <th>min</th>\n",
       "      <td>0.197429</td>\n",
       "      <td>0.200469</td>\n",
       "      <td>0.193326</td>\n",
       "      <td>0.199405</td>\n",
       "      <td>3.519590e+07</td>\n",
       "      <td>0.000000</td>\n",
       "      <td>0.000000</td>\n",
       "    </tr>\n",
       "    <tr>\n",
       "      <th>25%</th>\n",
       "      <td>1.686431</td>\n",
       "      <td>1.718955</td>\n",
       "      <td>1.661809</td>\n",
       "      <td>1.691598</td>\n",
       "      <td>1.372808e+08</td>\n",
       "      <td>0.000000</td>\n",
       "      <td>0.000000</td>\n",
       "    </tr>\n",
       "    <tr>\n",
       "      <th>50%</th>\n",
       "      <td>11.590105</td>\n",
       "      <td>11.690108</td>\n",
       "      <td>11.480367</td>\n",
       "      <td>11.556664</td>\n",
       "      <td>2.908976e+08</td>\n",
       "      <td>0.000000</td>\n",
       "      <td>0.000000</td>\n",
       "    </tr>\n",
       "    <tr>\n",
       "      <th>75%</th>\n",
       "      <td>35.825716</td>\n",
       "      <td>36.124921</td>\n",
       "      <td>35.348672</td>\n",
       "      <td>35.899010</td>\n",
       "      <td>5.460812e+08</td>\n",
       "      <td>0.000000</td>\n",
       "      <td>0.000000</td>\n",
       "    </tr>\n",
       "    <tr>\n",
       "      <th>max</th>\n",
       "      <td>181.299361</td>\n",
       "      <td>181.607100</td>\n",
       "      <td>177.814925</td>\n",
       "      <td>180.683868</td>\n",
       "      <td>7.421641e+09</td>\n",
       "      <td>0.230000</td>\n",
       "      <td>7.000000</td>\n",
       "    </tr>\n",
       "  </tbody>\n",
       "</table>\n",
       "</div>"
      ],
      "text/plain": [
       "              Open         High          Low        Close        Volume   \n",
       "count  5873.000000  5873.000000  5873.000000  5873.000000  5.873000e+03  \\\n",
       "mean     30.519552    30.868356    30.183767    30.540789  4.092381e+08   \n",
       "std      45.149917    45.705982    44.632430    45.195706  3.865421e+08   \n",
       "min       0.197429     0.200469     0.193326     0.199405  3.519590e+07   \n",
       "25%       1.686431     1.718955     1.661809     1.691598  1.372808e+08   \n",
       "50%      11.590105    11.690108    11.480367    11.556664  2.908976e+08   \n",
       "75%      35.825716    36.124921    35.348672    35.899010  5.460812e+08   \n",
       "max     181.299361   181.607100   177.814925   180.683868  7.421641e+09   \n",
       "\n",
       "         Dividends  Stock Splits  \n",
       "count  5873.000000   5873.000000  \n",
       "mean      0.001197      0.002554  \n",
       "std       0.014437      0.111469  \n",
       "min       0.000000      0.000000  \n",
       "25%       0.000000      0.000000  \n",
       "50%       0.000000      0.000000  \n",
       "75%       0.000000      0.000000  \n",
       "max       0.230000      7.000000  "
      ]
     },
     "execution_count": 7,
     "metadata": {},
     "output_type": "execute_result"
    }
   ],
   "source": [
    "# Statistics of the Apple dataframe\n",
    "AAPL.describe()"
   ]
  },
  {
   "cell_type": "code",
   "execution_count": 8,
   "metadata": {},
   "outputs": [
    {
     "data": {
      "text/plain": [
       "Index(['Open', 'High', 'Low', 'Close', 'Volume', 'Dividends', 'Stock Splits'], dtype='object')"
      ]
     },
     "execution_count": 8,
     "metadata": {},
     "output_type": "execute_result"
    }
   ],
   "source": [
    "# Columns of the dataframe\n",
    "AAPL.columns"
   ]
  },
  {
   "cell_type": "markdown",
   "metadata": {},
   "source": [
    "# Data Cleaning and Visualization of the Apple stock"
   ]
  },
  {
   "cell_type": "code",
   "execution_count": 9,
   "metadata": {},
   "outputs": [],
   "source": [
    "# Deleting the columns which are not required\n",
    "del AAPL[\"Dividends\"]\n",
    "del AAPL[\"Stock Splits\"]"
   ]
  },
  {
   "cell_type": "code",
   "execution_count": 10,
   "metadata": {},
   "outputs": [
    {
     "data": {
      "text/html": [
       "<div>\n",
       "<style scoped>\n",
       "    .dataframe tbody tr th:only-of-type {\n",
       "        vertical-align: middle;\n",
       "    }\n",
       "\n",
       "    .dataframe tbody tr th {\n",
       "        vertical-align: top;\n",
       "    }\n",
       "\n",
       "    .dataframe thead th {\n",
       "        text-align: right;\n",
       "    }\n",
       "</style>\n",
       "<table border=\"1\" class=\"dataframe\">\n",
       "  <thead>\n",
       "    <tr style=\"text-align: right;\">\n",
       "      <th></th>\n",
       "      <th>Open</th>\n",
       "      <th>High</th>\n",
       "      <th>Low</th>\n",
       "      <th>Close</th>\n",
       "      <th>Volume</th>\n",
       "    </tr>\n",
       "    <tr>\n",
       "      <th>Date</th>\n",
       "      <th></th>\n",
       "      <th></th>\n",
       "      <th></th>\n",
       "      <th></th>\n",
       "      <th></th>\n",
       "    </tr>\n",
       "  </thead>\n",
       "  <tbody>\n",
       "    <tr>\n",
       "      <th>2000-01-03 00:00:00-05:00</th>\n",
       "      <td>0.796973</td>\n",
       "      <td>0.854918</td>\n",
       "      <td>0.772751</td>\n",
       "      <td>0.850643</td>\n",
       "      <td>535796800</td>\n",
       "    </tr>\n",
       "    <tr>\n",
       "      <th>2000-01-04 00:00:00-05:00</th>\n",
       "      <td>0.822621</td>\n",
       "      <td>0.840669</td>\n",
       "      <td>0.768951</td>\n",
       "      <td>0.778926</td>\n",
       "      <td>512377600</td>\n",
       "    </tr>\n",
       "    <tr>\n",
       "      <th>2000-01-05 00:00:00-05:00</th>\n",
       "      <td>0.788424</td>\n",
       "      <td>0.840194</td>\n",
       "      <td>0.782725</td>\n",
       "      <td>0.790324</td>\n",
       "      <td>778321600</td>\n",
       "    </tr>\n",
       "    <tr>\n",
       "      <th>2000-01-06 00:00:00-05:00</th>\n",
       "      <td>0.806473</td>\n",
       "      <td>0.813122</td>\n",
       "      <td>0.721931</td>\n",
       "      <td>0.721931</td>\n",
       "      <td>767972800</td>\n",
       "    </tr>\n",
       "    <tr>\n",
       "      <th>2000-01-07 00:00:00-05:00</th>\n",
       "      <td>0.733329</td>\n",
       "      <td>0.767526</td>\n",
       "      <td>0.725731</td>\n",
       "      <td>0.756127</td>\n",
       "      <td>460734400</td>\n",
       "    </tr>\n",
       "    <tr>\n",
       "      <th>...</th>\n",
       "      <td>...</td>\n",
       "      <td>...</td>\n",
       "      <td>...</td>\n",
       "      <td>...</td>\n",
       "      <td>...</td>\n",
       "    </tr>\n",
       "    <tr>\n",
       "      <th>2023-05-01 00:00:00-04:00</th>\n",
       "      <td>169.279999</td>\n",
       "      <td>170.449997</td>\n",
       "      <td>168.639999</td>\n",
       "      <td>169.589996</td>\n",
       "      <td>52472900</td>\n",
       "    </tr>\n",
       "    <tr>\n",
       "      <th>2023-05-02 00:00:00-04:00</th>\n",
       "      <td>170.089996</td>\n",
       "      <td>170.350006</td>\n",
       "      <td>167.539993</td>\n",
       "      <td>168.539993</td>\n",
       "      <td>48425700</td>\n",
       "    </tr>\n",
       "    <tr>\n",
       "      <th>2023-05-03 00:00:00-04:00</th>\n",
       "      <td>169.500000</td>\n",
       "      <td>170.919998</td>\n",
       "      <td>167.160004</td>\n",
       "      <td>167.449997</td>\n",
       "      <td>65136000</td>\n",
       "    </tr>\n",
       "    <tr>\n",
       "      <th>2023-05-04 00:00:00-04:00</th>\n",
       "      <td>164.889999</td>\n",
       "      <td>167.039993</td>\n",
       "      <td>164.309998</td>\n",
       "      <td>165.789993</td>\n",
       "      <td>81235400</td>\n",
       "    </tr>\n",
       "    <tr>\n",
       "      <th>2023-05-05 00:00:00-04:00</th>\n",
       "      <td>170.979996</td>\n",
       "      <td>174.300003</td>\n",
       "      <td>170.759995</td>\n",
       "      <td>173.570007</td>\n",
       "      <td>113316400</td>\n",
       "    </tr>\n",
       "  </tbody>\n",
       "</table>\n",
       "<p>5873 rows × 5 columns</p>\n",
       "</div>"
      ],
      "text/plain": [
       "                                 Open        High         Low       Close   \n",
       "Date                                                                        \n",
       "2000-01-03 00:00:00-05:00    0.796973    0.854918    0.772751    0.850643  \\\n",
       "2000-01-04 00:00:00-05:00    0.822621    0.840669    0.768951    0.778926   \n",
       "2000-01-05 00:00:00-05:00    0.788424    0.840194    0.782725    0.790324   \n",
       "2000-01-06 00:00:00-05:00    0.806473    0.813122    0.721931    0.721931   \n",
       "2000-01-07 00:00:00-05:00    0.733329    0.767526    0.725731    0.756127   \n",
       "...                               ...         ...         ...         ...   \n",
       "2023-05-01 00:00:00-04:00  169.279999  170.449997  168.639999  169.589996   \n",
       "2023-05-02 00:00:00-04:00  170.089996  170.350006  167.539993  168.539993   \n",
       "2023-05-03 00:00:00-04:00  169.500000  170.919998  167.160004  167.449997   \n",
       "2023-05-04 00:00:00-04:00  164.889999  167.039993  164.309998  165.789993   \n",
       "2023-05-05 00:00:00-04:00  170.979996  174.300003  170.759995  173.570007   \n",
       "\n",
       "                              Volume  \n",
       "Date                                  \n",
       "2000-01-03 00:00:00-05:00  535796800  \n",
       "2000-01-04 00:00:00-05:00  512377600  \n",
       "2000-01-05 00:00:00-05:00  778321600  \n",
       "2000-01-06 00:00:00-05:00  767972800  \n",
       "2000-01-07 00:00:00-05:00  460734400  \n",
       "...                              ...  \n",
       "2023-05-01 00:00:00-04:00   52472900  \n",
       "2023-05-02 00:00:00-04:00   48425700  \n",
       "2023-05-03 00:00:00-04:00   65136000  \n",
       "2023-05-04 00:00:00-04:00   81235400  \n",
       "2023-05-05 00:00:00-04:00  113316400  \n",
       "\n",
       "[5873 rows x 5 columns]"
      ]
     },
     "execution_count": 10,
     "metadata": {},
     "output_type": "execute_result"
    }
   ],
   "source": [
    "# New AAPL Dataframe\n",
    "AAPL"
   ]
  },
  {
   "cell_type": "code",
   "execution_count": 11,
   "metadata": {},
   "outputs": [
    {
     "data": {
      "image/png": "[encoded data removed]",
      "text/plain": [
       "<Figure size 720x504 with 1 Axes>"
      ]
     },
     "metadata": {
      "needs_background": "light"
     },
     "output_type": "display_data"
    }
   ],
   "source": [
    "# Plotting the Closing Stock Price Data of Apple over Time\n",
    "AAPL['Close'].plot(figsize=(10, 7))\n",
    "plt.title(\"Change of Apple Stock Price over Time\", fontsize=17)\n",
    "plt.ylabel('AAPL CLose Price', fontsize=14)\n",
    "plt.xlabel('Time', fontsize=14)\n",
    "plt.grid(which=\"major\", color='k', linestyle='-.', linewidth=0.5)\n",
    "plt.show()"
   ]
  },
  {
   "cell_type": "code",
   "execution_count": 12,
   "metadata": {},
   "outputs": [
    {
     "data": {
      "image/png": "[encoded data removed]",
      "text/plain": [
       "<Figure size 432x288 with 1 Axes>"
      ]
     },
     "metadata": {
      "needs_background": "light"
     },
     "output_type": "display_data"
    },
    {
     "data": {
      "image/png": "[encoded data removed]",
      "text/plain": [
       "<Figure size 432x288 with 1 Axes>"
      ]
     },
     "metadata": {
      "needs_background": "light"
     },
     "output_type": "display_data"
    },
    {
     "data": {
      "image/png": "[encoded data removed]",
      "text/plain": [
       "<Figure size 432x288 with 1 Axes>"
      ]
     },
     "metadata": {
      "needs_background": "light"
     },
     "output_type": "display_data"
    },
    {
     "data": {
      "image/png": "[encoded data removed]",
      "text/plain": [
       "<Figure size 432x288 with 1 Axes>"
      ]
     },
     "metadata": {
      "needs_background": "light"
     },
     "output_type": "display_data"
    }
   ],
   "source": [
    "# Plotting the correlation graphs between the predictors and the Closing price\n",
    "predictors = ['Open','Volume','High','Low']\n",
    "for col in predictors:\n",
    "    X = AAPL[col]\n",
    "    Y = AAPL['Close']\n",
    "    plt.scatter(X,Y)\n",
    "    plt.title(\"Correlation Graph\", fontsize=17)\n",
    "    plt.ylabel(f'{col}', fontsize=14)\n",
    "    plt.xlabel('Close', fontsize=14)\n",
    "    plt.show()"
   ]
  },
  {
   "cell_type": "markdown",
   "metadata": {},
   "source": [
    "We can observe that there exists a positive correlation between the predictors Open, High, Low, and the target variable Close."
   ]
  },
  {
   "cell_type": "code",
   "execution_count": 13,
   "metadata": {},
   "outputs": [],
   "source": [
    "def create_train_test_set(df_Stock):\n",
    "    \n",
    "    features = df_Stock.drop(columns=['Close'], axis = 1)\n",
    "    target = df_Stock['Close']\n",
    "    \n",
    "    data_len = df_Stock.shape[0]\n",
    "    print('Historical Stock Data length is - ', str(data_len))\n",
    "\n",
    "    #create a chronological split for train and testing\n",
    "    train_split = int(data_len * 0.88)\n",
    "    print('Training Set length - ', str(train_split))\n",
    "\n",
    "    val_split = train_split + int(data_len * 0.1)\n",
    "    print('Validation Set length - ', str(int(data_len * 0.1)))\n",
    "\n",
    "    print('Test Set length - ', str(int(data_len * 0.02)))\n",
    "\n",
    "    # Splitting features and target into train, validation and test samples \n",
    "    X_train, X_val, X_test = features[:train_split], features[train_split:val_split], features[val_split:]\n",
    "    Y_train, Y_val, Y_test = target[:train_split], target[train_split:val_split], target[val_split:]\n",
    "\n",
    "    #print shape of samples\n",
    "    print(X_train.shape, X_val.shape, X_test.shape)\n",
    "    print(Y_train.shape, Y_val.shape, Y_test.shape)\n",
    "    \n",
    "    return X_train, X_val, X_test, Y_train, Y_val, Y_test"
   ]
  },
  {
   "cell_type": "markdown",
   "metadata": {},
   "source": [
    "'Close' is the column that we are trying to predict here which is the price for the next day."
   ]
  },
  {
   "cell_type": "code",
   "execution_count": 14,
   "metadata": {},
   "outputs": [
    {
     "name": "stdout",
     "output_type": "stream",
     "text": [
      "Historical Stock Data length is -  5873\n",
      "Training Set length -  5168\n",
      "Validation Set length -  587\n",
      "Test Set length -  117\n",
      "(5168, 4) (587, 4) (118, 4)\n",
      "(5168,) (587,) (118,)\n"
     ]
    }
   ],
   "source": [
    "# Implementing the function to get the following data\n",
    "X_train, X_val, X_test, Y_train, Y_val, Y_test = create_train_test_set(AAPL)"
   ]
  },
  {
   "cell_type": "markdown",
   "metadata": {},
   "source": [
    "# Implementation of the Linear Regression Algorithm"
   ]
  },
  {
   "cell_type": "code",
   "execution_count": 15,
   "metadata": {},
   "outputs": [
    {
     "data": {
      "text/html": [
       "<style>#sk-container-id-1 {color: black;background-color: white;}#sk-container-id-1 pre{padding: 0;}#sk-container-id-1 div.sk-toggleable {background-color: white;}#sk-container-id-1 label.sk-toggleable__label {cursor: pointer;display: block;width: 100%;margin-bottom: 0;padding: 0.3em;box-sizing: border-box;text-align: center;}#sk-container-id-1 label.sk-toggleable__label-arrow:before {content: \"▸\";float: left;margin-right: 0.25em;color: #696969;}#sk-container-id-1 label.sk-toggleable__label-arrow:hover:before {color: black;}#sk-container-id-1 div.sk-estimator:hover label.sk-toggleable__label-arrow:before {color: black;}#sk-container-id-1 div.sk-toggleable__content {max-height: 0;max-width: 0;overflow: hidden;text-align: left;background-color: #f0f8ff;}#sk-container-id-1 div.sk-toggleable__content pre {margin: 0.2em;color: black;border-radius: 0.25em;background-color: #f0f8ff;}#sk-container-id-1 input.sk-toggleable__control:checked~div.sk-toggleable__content {max-height: 200px;max-width: 100%;overflow: auto;}#sk-container-id-1 input.sk-toggleable__control:checked~label.sk-toggleable__label-arrow:before {content: \"▾\";}#sk-container-id-1 div.sk-estimator input.sk-toggleable__control:checked~label.sk-toggleable__label {background-color: #d4ebff;}#sk-container-id-1 div.sk-label input.sk-toggleable__control:checked~label.sk-toggleable__label {background-color: #d4ebff;}#sk-container-id-1 input.sk-hidden--visually {border: 0;clip: rect(1px 1px 1px 1px);clip: rect(1px, 1px, 1px, 1px);height: 1px;margin: -1px;overflow: hidden;padding: 0;position: absolute;width: 1px;}#sk-container-id-1 div.sk-estimator {font-family: monospace;background-color: #f0f8ff;border: 1px dotted black;border-radius: 0.25em;box-sizing: border-box;margin-bottom: 0.5em;}#sk-container-id-1 div.sk-estimator:hover {background-color: #d4ebff;}#sk-container-id-1 div.sk-parallel-item::after {content: \"\";width: 100%;border-bottom: 1px solid gray;flex-grow: 1;}#sk-container-id-1 div.sk-label:hover label.sk-toggleable__label {background-color: #d4ebff;}#sk-container-id-1 div.sk-serial::before {content: \"\";position: absolute;border-left: 1px solid gray;box-sizing: border-box;top: 0;bottom: 0;left: 50%;z-index: 0;}#sk-container-id-1 div.sk-serial {display: flex;flex-direction: column;align-items: center;background-color: white;padding-right: 0.2em;padding-left: 0.2em;position: relative;}#sk-container-id-1 div.sk-item {position: relative;z-index: 1;}#sk-container-id-1 div.sk-parallel {display: flex;align-items: stretch;justify-content: center;background-color: white;position: relative;}#sk-container-id-1 div.sk-item::before, #sk-container-id-1 div.sk-parallel-item::before {content: \"\";position: absolute;border-left: 1px solid gray;box-sizing: border-box;top: 0;bottom: 0;left: 50%;z-index: -1;}#sk-container-id-1 div.sk-parallel-item {display: flex;flex-direction: column;z-index: 1;position: relative;background-color: white;}#sk-container-id-1 div.sk-parallel-item:first-child::after {align-self: flex-end;width: 50%;}#sk-container-id-1 div.sk-parallel-item:last-child::after {align-self: flex-start;width: 50%;}#sk-container-id-1 div.sk-parallel-item:only-child::after {width: 0;}#sk-container-id-1 div.sk-dashed-wrapped {border: 1px dashed gray;margin: 0 0.4em 0.5em 0.4em;box-sizing: border-box;padding-bottom: 0.4em;background-color: white;}#sk-container-id-1 div.sk-label label {font-family: monospace;font-weight: bold;display: inline-block;line-height: 1.2em;}#sk-container-id-1 div.sk-label-container {text-align: center;}#sk-container-id-1 div.sk-container {/* jupyter's `normalize.less` sets `[hidden] { display: none; }` but bootstrap.min.css set `[hidden] { display: none !important; }` so we also need the `!important` here to be able to override the default hidden behavior on the sphinx rendered scikit-learn.org. See: https://github.com/scikit-learn/scikit-learn/issues/21755 */display: inline-block !important;position: relative;}#sk-container-id-1 div.sk-text-repr-fallback {display: none;}</style><div id=\"sk-container-id-1\" class=\"sk-top-container\"><div class=\"sk-text-repr-fallback\"><pre>LinearRegression()</pre><b>In a Jupyter environment, please rerun this cell to show the HTML representation or trust the notebook. <br />On GitHub, the HTML representation is unable to render, please try loading this page with nbviewer.org.</b></div><div class=\"sk-container\" hidden><div class=\"sk-item\"><div class=\"sk-estimator sk-toggleable\"><input class=\"sk-toggleable__control sk-hidden--visually\" id=\"sk-estimator-id-1\" type=\"checkbox\" checked><label for=\"sk-estimator-id-1\" class=\"sk-toggleable__label sk-toggleable__label-arrow\">LinearRegression</label><div class=\"sk-toggleable__content\"><pre>LinearRegression()</pre></div></div></div></div></div>"
      ],
      "text/plain": [
       "LinearRegression()"
      ]
     },
     "execution_count": 15,
     "metadata": {},
     "output_type": "execute_result"
    }
   ],
   "source": [
    "# Import the Linear Regression class from the sklearn.linear_model module\n",
    "from sklearn.linear_model import LinearRegression\n",
    "\n",
    "# Creating an instance of the Linear Regression class\n",
    "lr = LinearRegression()\n",
    "# Training the linear regression model using the fit() method\n",
    "lr.fit(X_train, Y_train)"
   ]
  },
  {
   "cell_type": "code",
   "execution_count": 16,
   "metadata": {},
   "outputs": [
    {
     "name": "stdout",
     "output_type": "stream",
     "text": [
      "LR Coefficients: \n",
      " [-5.63290695e-01  7.53980858e-01  8.10183271e-01  1.07381881e-11]\n",
      "LR Intercept: \n",
      " -0.004271163676813572\n"
     ]
    }
   ],
   "source": [
    "# Slope and Intercept of the Regression line\n",
    "print('LR Coefficients: \\n', lr.coef_)\n",
    "print('LR Intercept: \\n', lr.intercept_)"
   ]
  },
  {
   "cell_type": "code",
   "execution_count": 17,
   "metadata": {},
   "outputs": [
    {
     "name": "stdout",
     "output_type": "stream",
     "text": [
      "Performance (R^2):  0.999916738741321\n",
      "Percentage (R^2):  99.9916738741321\n"
     ]
    }
   ],
   "source": [
    "print(\"Performance (R^2): \", lr.score(X_train, Y_train))\n",
    "print(\"Percentage (R^2): \", (lr.score(X_train, Y_train))*100)"
   ]
  },
  {
   "cell_type": "markdown",
   "metadata": {},
   "source": [
    "R-squared (R²) is a statistical measure that represents the proportion of the variance for a dependent variable that's explained by an independent variable in a regression model.In general, the higher the R² value, the better the model fits the data."
   ]
  },
  {
   "cell_type": "code",
   "execution_count": 18,
   "metadata": {},
   "outputs": [],
   "source": [
    "def get_mape(y_true, y_pred): \n",
    "    \"\"\"\n",
    "    Compute mean absolute percentage error (MAPE)\n",
    "    \"\"\"\n",
    "    y_true, y_pred = np.array(y_true), np.array(y_pred)\n",
    "    return np.mean(np.abs((y_true - y_pred) / y_true)) * 100"
   ]
  },
  {
   "cell_type": "markdown",
   "metadata": {},
   "source": [
    "Mean absolute percentage error (MAPE) is a metric used to evaluate the accuracy of a forecasting model. It measures the average percentage difference between the actual values and the predicted values."
   ]
  },
  {
   "cell_type": "code",
   "execution_count": 19,
   "metadata": {},
   "outputs": [],
   "source": [
    "Y_train_pred = lr.predict(X_train)\n",
    "Y_val_pred = lr.predict(X_val)\n",
    "Y_test_pred = lr.predict(X_test)"
   ]
  },
  {
   "cell_type": "markdown",
   "metadata": {},
   "source": [
    "We are using a trained linear regression model lr to make predictions on the three sets of input data: X_train, X_val, and X_test. Specifically, the predict() method of the linear regression model is used to predict the corresponding target values for each set of input data."
   ]
  },
  {
   "cell_type": "code",
   "execution_count": 20,
   "metadata": {},
   "outputs": [
    {
     "name": "stdout",
     "output_type": "stream",
     "text": [
      "Training R-squared:  1.0\n",
      "Training Explained Variation:  1.0\n",
      "Training MAPE: 0.68\n",
      "Training Mean Squared Error: 0.03\n",
      "Training RMSE:  0.17\n",
      "Training MAE:  0.07\n",
      " \n",
      "Validation R-squared:  1.0\n",
      "Validation Explained Variation:  1.0\n",
      "Validation MAPE: 0.57\n",
      "Validation Mean Squared Error: 0.03\n",
      "Validation RMSE:  1.06\n",
      "Validation MAE:  0.8\n",
      " \n",
      "Test R-squared:  0.99\n",
      "Test Explained Variation:  0.99\n",
      "Test MAPE: 0.5\n",
      "Test Mean Squared Error: 0.79\n",
      "Test RMSE:  0.89\n",
      "Test MAE:  0.74\n"
     ]
    }
   ],
   "source": [
    "print(\"Training R-squared: \",round(metrics.r2_score(Y_train,Y_train_pred),2))\n",
    "print(\"Training Explained Variation: \",round(metrics.explained_variance_score(Y_train,Y_train_pred),2))\n",
    "print('Training MAPE:', round(get_mape(Y_train,Y_train_pred), 2)) \n",
    "print('Training Mean Squared Error:', round(metrics.mean_squared_error(Y_train,Y_train_pred), 2)) \n",
    "print(\"Training RMSE: \",round(np.sqrt(metrics.mean_squared_error(Y_train,Y_train_pred)),2))\n",
    "print(\"Training MAE: \",round(metrics.mean_absolute_error(Y_train,Y_train_pred),2))\n",
    "\n",
    "print(' ')\n",
    "\n",
    "print(\"Validation R-squared: \",round(metrics.r2_score(Y_val,Y_val_pred),2))\n",
    "print(\"Validation Explained Variation: \",round(metrics.explained_variance_score(Y_val,Y_val_pred),2))\n",
    "print('Validation MAPE:', round(get_mape(Y_val,Y_val_pred), 2)) \n",
    "print('Validation Mean Squared Error:', round(metrics.mean_squared_error(Y_train,Y_train_pred), 2)) \n",
    "print(\"Validation RMSE: \",round(np.sqrt(metrics.mean_squared_error(Y_val,Y_val_pred)),2))\n",
    "print(\"Validation MAE: \",round(metrics.mean_absolute_error(Y_val,Y_val_pred),2))\n",
    "\n",
    "print(' ')\n",
    "\n",
    "print(\"Test R-squared: \",round(metrics.r2_score(Y_test,Y_test_pred),2))\n",
    "print(\"Test Explained Variation: \",round(metrics.explained_variance_score(Y_test,Y_test_pred),2))\n",
    "print('Test MAPE:', round(get_mape(Y_test,Y_test_pred), 2)) \n",
    "print('Test Mean Squared Error:', round(metrics.mean_squared_error(Y_test,Y_test_pred), 2)) \n",
    "print(\"Test RMSE: \",round(np.sqrt(metrics.mean_squared_error(Y_test,Y_test_pred)),2))\n",
    "print(\"Test MAE: \",round(metrics.mean_absolute_error(Y_test,Y_test_pred),2))"
   ]
  },
  {
   "cell_type": "markdown",
   "metadata": {},
   "source": [
    "1.The R-squared value is a measure of how well the model fits the data and ranges from 0 to 1, with higher values indicating a better fit.\n",
    "\n",
    "2.The explained variance score is another measure of how well the model fits the data and also ranges from 0 to 1, with higher values indicating a better fit.\n",
    "\n",
    "3.MAPE measures the percentage difference between the predicted and actual values, and lower values indicate better performance.\n",
    "\n",
    "4.MSE measures the average squared difference between the predicted and actual values, and lower values indicate better performance.\n",
    "\n",
    "5.RMSE is the square root of the MSE and is another measure of the average difference between the predicted and actual values, with lower values indicating better performance.\n",
    "\n",
    "6.MAE measures the average absolute difference between the predicted and actual values, with lower values indicating better performance."
   ]
  },
  {
   "cell_type": "code",
   "execution_count": 21,
   "metadata": {},
   "outputs": [
    {
     "data": {
      "text/html": [
       "<div>\n",
       "<style scoped>\n",
       "    .dataframe tbody tr th:only-of-type {\n",
       "        vertical-align: middle;\n",
       "    }\n",
       "\n",
       "    .dataframe tbody tr th {\n",
       "        vertical-align: top;\n",
       "    }\n",
       "\n",
       "    .dataframe thead th {\n",
       "        text-align: right;\n",
       "    }\n",
       "</style>\n",
       "<table border=\"1\" class=\"dataframe\">\n",
       "  <thead>\n",
       "    <tr style=\"text-align: right;\">\n",
       "      <th></th>\n",
       "      <th>Date</th>\n",
       "      <th>Actual</th>\n",
       "      <th>Predicted</th>\n",
       "    </tr>\n",
       "  </thead>\n",
       "  <tbody>\n",
       "    <tr>\n",
       "      <th>0</th>\n",
       "      <td>2020-07-20 00:00:00-04:00</td>\n",
       "      <td>96.701126</td>\n",
       "      <td>96.134243</td>\n",
       "    </tr>\n",
       "    <tr>\n",
       "      <th>1</th>\n",
       "      <td>2020-07-21 00:00:00-04:00</td>\n",
       "      <td>95.366486</td>\n",
       "      <td>95.706260</td>\n",
       "    </tr>\n",
       "    <tr>\n",
       "      <th>2</th>\n",
       "      <td>2020-07-22 00:00:00-04:00</td>\n",
       "      <td>95.634384</td>\n",
       "      <td>96.022878</td>\n",
       "    </tr>\n",
       "    <tr>\n",
       "      <th>3</th>\n",
       "      <td>2020-07-23 00:00:00-04:00</td>\n",
       "      <td>91.281464</td>\n",
       "      <td>91.531736</td>\n",
       "    </tr>\n",
       "    <tr>\n",
       "      <th>4</th>\n",
       "      <td>2020-07-24 00:00:00-04:00</td>\n",
       "      <td>91.055344</td>\n",
       "      <td>89.533074</td>\n",
       "    </tr>\n",
       "    <tr>\n",
       "      <th>...</th>\n",
       "      <td>...</td>\n",
       "      <td>...</td>\n",
       "      <td>...</td>\n",
       "    </tr>\n",
       "    <tr>\n",
       "      <th>582</th>\n",
       "      <td>2022-11-08 00:00:00-05:00</td>\n",
       "      <td>139.287338</td>\n",
       "      <td>138.720853</td>\n",
       "    </tr>\n",
       "    <tr>\n",
       "      <th>583</th>\n",
       "      <td>2022-11-09 00:00:00-05:00</td>\n",
       "      <td>134.664383</td>\n",
       "      <td>135.280827</td>\n",
       "    </tr>\n",
       "    <tr>\n",
       "      <th>584</th>\n",
       "      <td>2022-11-10 00:00:00-05:00</td>\n",
       "      <td>146.646088</td>\n",
       "      <td>143.975721</td>\n",
       "    </tr>\n",
       "    <tr>\n",
       "      <th>585</th>\n",
       "      <td>2022-11-11 00:00:00-05:00</td>\n",
       "      <td>149.471771</td>\n",
       "      <td>147.702974</td>\n",
       "    </tr>\n",
       "    <tr>\n",
       "      <th>586</th>\n",
       "      <td>2022-11-14 00:00:00-05:00</td>\n",
       "      <td>148.053940</td>\n",
       "      <td>148.609744</td>\n",
       "    </tr>\n",
       "  </tbody>\n",
       "</table>\n",
       "<p>587 rows × 3 columns</p>\n",
       "</div>"
      ],
      "text/plain": [
       "                         Date      Actual   Predicted\n",
       "0   2020-07-20 00:00:00-04:00   96.701126   96.134243\n",
       "1   2020-07-21 00:00:00-04:00   95.366486   95.706260\n",
       "2   2020-07-22 00:00:00-04:00   95.634384   96.022878\n",
       "3   2020-07-23 00:00:00-04:00   91.281464   91.531736\n",
       "4   2020-07-24 00:00:00-04:00   91.055344   89.533074\n",
       "..                        ...         ...         ...\n",
       "582 2022-11-08 00:00:00-05:00  139.287338  138.720853\n",
       "583 2022-11-09 00:00:00-05:00  134.664383  135.280827\n",
       "584 2022-11-10 00:00:00-05:00  146.646088  143.975721\n",
       "585 2022-11-11 00:00:00-05:00  149.471771  147.702974\n",
       "586 2022-11-14 00:00:00-05:00  148.053940  148.609744\n",
       "\n",
       "[587 rows x 3 columns]"
      ]
     },
     "execution_count": 21,
     "metadata": {},
     "output_type": "execute_result"
    }
   ],
   "source": [
    "# Create a new dataframe with columns 'Actual' and 'Predicted' with values Y_val and Y_val_pred\n",
    "df_pred_val = pd.DataFrame(Y_val.values, columns=['Actual'], index=Y_val.index)\n",
    "df_pred_val['Predicted'] = Y_val_pred\n",
    "# Reset the index of the dataframe to add a new column 'Date' and converting it to datetime format\n",
    "df_pred_val = df_pred_val.reset_index()\n",
    "df_pred_val.loc[:, 'Date'] = pd.to_datetime(df_pred_val['Date'],format='%Y-%m-%d')\n",
    "df_pred_val"
   ]
  },
  {
   "cell_type": "code",
   "execution_count": 22,
   "metadata": {},
   "outputs": [
    {
     "data": {
      "image/png": "[encoded data removed]",
      "text/plain": [
       "<Figure size 432x288 with 1 Axes>"
      ]
     },
     "metadata": {
      "needs_background": "light"
     },
     "output_type": "display_data"
    }
   ],
   "source": [
    "# Plot Model Predicted Prices vs Actual Prices on Time Series plot for the Validation Data\n",
    "df_pred_val[['Actual', 'Predicted']].plot()\n",
    "\n",
    "# Set the title of the plot\n",
    "plt.title('Actual vs Predicted Values for the Validation Data')\n",
    "\n",
    "# Display the plot\n",
    "plt.show()"
   ]
  },
  {
   "cell_type": "code",
   "execution_count": 23,
   "metadata": {},
   "outputs": [
    {
     "data": {
      "text/html": [
       "<div>\n",
       "<style scoped>\n",
       "    .dataframe tbody tr th:only-of-type {\n",
       "        vertical-align: middle;\n",
       "    }\n",
       "\n",
       "    .dataframe tbody tr th {\n",
       "        vertical-align: top;\n",
       "    }\n",
       "\n",
       "    .dataframe thead th {\n",
       "        text-align: right;\n",
       "    }\n",
       "</style>\n",
       "<table border=\"1\" class=\"dataframe\">\n",
       "  <thead>\n",
       "    <tr style=\"text-align: right;\">\n",
       "      <th></th>\n",
       "      <th>Date</th>\n",
       "      <th>Actual</th>\n",
       "      <th>Predicted</th>\n",
       "    </tr>\n",
       "  </thead>\n",
       "  <tbody>\n",
       "    <tr>\n",
       "      <th>0</th>\n",
       "      <td>2022-11-15 00:00:00-05:00</td>\n",
       "      <td>149.811249</td>\n",
       "      <td>150.188001</td>\n",
       "    </tr>\n",
       "    <tr>\n",
       "      <th>1</th>\n",
       "      <td>2022-11-16 00:00:00-05:00</td>\n",
       "      <td>148.563156</td>\n",
       "      <td>148.097738</td>\n",
       "    </tr>\n",
       "    <tr>\n",
       "      <th>2</th>\n",
       "      <td>2022-11-17 00:00:00-05:00</td>\n",
       "      <td>150.490234</td>\n",
       "      <td>149.906356</td>\n",
       "    </tr>\n",
       "    <tr>\n",
       "      <th>3</th>\n",
       "      <td>2022-11-18 00:00:00-05:00</td>\n",
       "      <td>151.059357</td>\n",
       "      <td>150.607836</td>\n",
       "    </tr>\n",
       "    <tr>\n",
       "      <th>4</th>\n",
       "      <td>2022-11-21 00:00:00-05:00</td>\n",
       "      <td>147.784348</td>\n",
       "      <td>148.242646</td>\n",
       "    </tr>\n",
       "    <tr>\n",
       "      <th>...</th>\n",
       "      <td>...</td>\n",
       "      <td>...</td>\n",
       "      <td>...</td>\n",
       "    </tr>\n",
       "    <tr>\n",
       "      <th>113</th>\n",
       "      <td>2023-05-01 00:00:00-04:00</td>\n",
       "      <td>169.589996</td>\n",
       "      <td>169.787785</td>\n",
       "    </tr>\n",
       "    <tr>\n",
       "      <th>114</th>\n",
       "      <td>2023-05-02 00:00:00-04:00</td>\n",
       "      <td>168.539993</td>\n",
       "      <td>168.364880</td>\n",
       "    </tr>\n",
       "    <tr>\n",
       "      <th>115</th>\n",
       "      <td>2023-05-03 00:00:00-04:00</td>\n",
       "      <td>167.449997</td>\n",
       "      <td>168.819301</td>\n",
       "    </tr>\n",
       "    <tr>\n",
       "      <th>116</th>\n",
       "      <td>2023-05-04 00:00:00-04:00</td>\n",
       "      <td>165.789993</td>\n",
       "      <td>166.181767</td>\n",
       "    </tr>\n",
       "    <tr>\n",
       "      <th>117</th>\n",
       "      <td>2023-05-05 00:00:00-04:00</td>\n",
       "      <td>173.570007</td>\n",
       "      <td>173.451262</td>\n",
       "    </tr>\n",
       "  </tbody>\n",
       "</table>\n",
       "<p>118 rows × 3 columns</p>\n",
       "</div>"
      ],
      "text/plain": [
       "                         Date      Actual   Predicted\n",
       "0   2022-11-15 00:00:00-05:00  149.811249  150.188001\n",
       "1   2022-11-16 00:00:00-05:00  148.563156  148.097738\n",
       "2   2022-11-17 00:00:00-05:00  150.490234  149.906356\n",
       "3   2022-11-18 00:00:00-05:00  151.059357  150.607836\n",
       "4   2022-11-21 00:00:00-05:00  147.784348  148.242646\n",
       "..                        ...         ...         ...\n",
       "113 2023-05-01 00:00:00-04:00  169.589996  169.787785\n",
       "114 2023-05-02 00:00:00-04:00  168.539993  168.364880\n",
       "115 2023-05-03 00:00:00-04:00  167.449997  168.819301\n",
       "116 2023-05-04 00:00:00-04:00  165.789993  166.181767\n",
       "117 2023-05-05 00:00:00-04:00  173.570007  173.451262\n",
       "\n",
       "[118 rows x 3 columns]"
      ]
     },
     "execution_count": 23,
     "metadata": {},
     "output_type": "execute_result"
    }
   ],
   "source": [
    "# Create a new dataframe with columns 'Actual' and 'Predicted' with values Y_test and Y_test_pred\n",
    "df_pred_test = pd.DataFrame(Y_test.values, columns=['Actual'], index=Y_test.index)\n",
    "df_pred_test['Predicted'] = Y_test_pred\n",
    "# Reset the index of the dataframe to add a new column 'Date' and converting it to datetime format\n",
    "df_pred_test = df_pred_test.reset_index()\n",
    "df_pred_test.loc[:, 'Date'] = pd.to_datetime(df_pred_test['Date'],format='%Y-%m-%d')\n",
    "df_pred_test"
   ]
  },
  {
   "cell_type": "code",
   "execution_count": 24,
   "metadata": {},
   "outputs": [
    {
     "data": {
      "image/png": "[encoded data removed]",
      "text/plain": [
       "<Figure size 432x288 with 1 Axes>"
      ]
     },
     "metadata": {
      "needs_background": "light"
     },
     "output_type": "display_data"
    }
   ],
   "source": [
    "# Plot Model Predicted Prices vs Actual Prices on Time Series plot for the Test Data\n",
    "df_pred_test[['Actual', 'Predicted']].plot()\n",
    "\n",
    "# Set the title of the plot\n",
    "plt.title('Actual vs Predicted Values for the Test Data')\n",
    "\n",
    "# Display the plot\n",
    "plt.show()"
   ]
  }
 ],
 "metadata": {
  "kernelspec": {
   "display_name": "Python 3",
   "language": "python",
   "name": "python3"
  },
  "language_info": {
   "codemirror_mode": {
    "name": "ipython",
    "version": 3
   },
   "file_extension": ".py",
   "mimetype": "text/x-python",
   "name": "python",
   "nbconvert_exporter": "python",
   "pygments_lexer": "ipython3",
   "version": "3.8.3"
  }
 },
 "nbformat": 4,
 "nbformat_minor": 4
}
